{
 "cells": [
  {
   "cell_type": "code",
   "execution_count": 205,
   "id": "e8e53681-fed0-4569-a36b-211e84e45416",
   "metadata": {},
   "outputs": [],
   "source": [
    "import torch\n",
    "import torch.nn.functional as F\n",
    "import matplotlib.pyplot as plt\n",
    "%matplotlib inline"
   ]
  },
  {
   "cell_type": "code",
   "execution_count": 206,
   "id": "88cda25e-a3e9-41f6-98b2-2702527e87ad",
   "metadata": {},
   "outputs": [],
   "source": [
    "# data read \n",
    "words = open('/home/risal/X3s4c5/Makemore/names.txt','r').read().splitlines()"
   ]
  },
  {
   "cell_type": "code",
   "execution_count": 207,
   "id": "1402b76f-23ab-430e-8079-9e9b19a031b6",
   "metadata": {},
   "outputs": [],
   "source": [
    "chars = sorted(list(set(''.join(words))))\n",
    "stoi = {s:i+1 for i,s in enumerate(chars)}\n",
    "stoi['.'] = 0\n",
    "itos = {i:s for s,i in stoi.items()}\n",
    "vocab_size = len(itos)"
   ]
  },
  {
   "cell_type": "code",
   "execution_count": 208,
   "id": "49c5e878-14fa-4765-be09-0842fe6dcf5f",
   "metadata": {},
   "outputs": [],
   "source": [
    "# build the dataset\n",
    "block_size = 3\n",
    "def build_dataset(words):\n",
    "    X, Y= [] , []\n",
    "    \n",
    "    for w in words:\n",
    "        context  = [0] * block_size\n",
    "        for ch in w + '.':\n",
    "            ix = stoi[ch]\n",
    "            X.append(context)\n",
    "            Y.append(ix)\n",
    "            context = context[1:] + [ix]\n",
    "    \n",
    "    X = torch.tensor(X)\n",
    "    Y = torch.tensor(Y)\n",
    "    return X,Y\n",
    "\n",
    "import random\n",
    "random.seed(42)\n",
    "n1 = int(0.8 * len(words))\n",
    "n2 = int(0.9 * len(words))\n",
    "\n",
    "X_trn, Y_trn = build_dataset(words[:n1])\n",
    "X_dev, Y_dev = build_dataset(words[n1:n2])\n",
    "X_tst, Y_tst = build_dataset(words[n2:])"
   ]
  },
  {
   "cell_type": "code",
   "execution_count": 217,
   "id": "aacacb06-2cb8-44f9-8dce-fb49a19236d6",
   "metadata": {},
   "outputs": [
    {
     "name": "stdout",
     "output_type": "stream",
     "text": [
      "12297\n"
     ]
    }
   ],
   "source": [
    "n_emb = 10\n",
    "n_hidden = 200\n",
    "\n",
    "# MLP components \n",
    "g = torch.Generator().manual_seed(123)\n",
    "C = torch.randn((vocab_size,n_emb), generator = g)\n",
    "W1 = torch.randn((n_emb * block_size, n_hidden), generator = g) * (5/3)/((n_emb * block_size)**0.5)\n",
    "# b1 = torch.randn(n_hidden, generator = g)  * 0\n",
    "W2 = torch.randn((n_hidden, vocab_size), generator = g) * 0.1\n",
    "b2 = torch.randn(vocab_size, generator = g ) * 0\n",
    "\n",
    "bngain = torch.ones((1, n_hidden))\n",
    "bnbias = torch.zeros((1, n_hidden))\n",
    "\n",
    "bnmean_running = torch.zeros((1, n_hidden))\n",
    "bnstd_running = torch.ones((1, n_hidden))\n",
    "\n",
    "parameters = [C, W1, b1, W2, b2, bngain, bnbias]\n",
    "\n",
    "print(sum(p.nelement() for p in parameters))\n",
    "for p in parameters:\n",
    "    p.requires_grad =  True"
   ]
  },
  {
   "cell_type": "code",
   "execution_count": 218,
   "id": "64f0d281-f3ae-43cb-a2c8-9420708929eb",
   "metadata": {},
   "outputs": [
    {
     "name": "stdout",
     "output_type": "stream",
     "text": [
      "      0 /   30000: 3.7188\n",
      "   1000 /   30000: 2.6986\n",
      "   2000 /   30000: 2.6447\n",
      "   3000 /   30000: 2.6479\n",
      "   4000 /   30000: 2.2837\n",
      "   5000 /   30000: 2.1756\n",
      "   6000 /   30000: 2.2292\n",
      "   7000 /   30000: 2.3475\n",
      "   8000 /   30000: 2.5768\n",
      "   9000 /   30000: 2.2566\n",
      "  10000 /   30000: 2.3386\n",
      "  11000 /   30000: 2.6710\n",
      "  12000 /   30000: 2.8111\n",
      "  13000 /   30000: 2.7230\n",
      "  14000 /   30000: 2.4936\n",
      "  15000 /   30000: 2.1004\n",
      "  16000 /   30000: 2.8339\n",
      "  17000 /   30000: 2.6180\n",
      "  18000 /   30000: 2.2810\n",
      "  19000 /   30000: 2.3387\n",
      "  20000 /   30000: 2.1461\n",
      "  21000 /   30000: 2.3007\n",
      "  22000 /   30000: 2.7087\n",
      "  23000 /   30000: 2.0883\n",
      "  24000 /   30000: 2.7624\n",
      "  25000 /   30000: 1.9302\n",
      "  26000 /   30000: 2.6192\n",
      "  27000 /   30000: 2.2375\n",
      "  28000 /   30000: 2.0085\n",
      "  29000 /   30000: 2.1024\n"
     ]
    }
   ],
   "source": [
    "# MLP\n",
    "max_steps = 30000\n",
    "batch_size = 32\n",
    "losses_train = []\n",
    "\n",
    "for i in range(max_steps):\n",
    "    \n",
    "    # mini batch\n",
    "    ix = torch.randint(0,X_trn.shape[0], (batch_size,), generator = g)\n",
    "    Xb, Yb = X_trn[ix], Y_trn[ix]\n",
    "    \n",
    "    # forward passes \n",
    "    emb = C[Xb] \n",
    "    embcat = emb.view((emb.shape[0], -1))\n",
    "    hpreact = embcat @ W1 #+b1\n",
    "    # tracking down the batch running mean and std\n",
    "    bnmeani = hpreact.mean(0, keepdim = True)\n",
    "    bnstdi = hpreact.std(0, keepdim = True)\n",
    "    hpreact = bngain * (hpreact - bnmeani) / bnstdi + bnbias # Batch norm formula and scaling and shifting \n",
    "\n",
    "    with torch.no_grad():\n",
    "        bnmean_running = 0.999 * bnmean_running + 0.001 * bnmeani\n",
    "        bnstd_running = 0.999 * bnstd_running + 0.001 * bnstd\n",
    "        \n",
    "    h = torch.tanh(hpreact)\n",
    "    logits = h @ W2 + b2\n",
    "    loss = F.cross_entropy(logits,  Y_trn[ix]) \n",
    "\n",
    "    # backward pass \n",
    "    for p in parameters:\n",
    "        p.grad = None\n",
    "    loss.backward()\n",
    "    \n",
    "    # update params\n",
    "    lr = 0.01 \n",
    "    for p in parameters:\n",
    "        p.data += -lr * p.grad\n",
    "\n",
    "    # track stats\n",
    "    if i % 1000 == 0:\n",
    "        print(f\"{i:7d} / {max_steps:7d}: {loss.item():.4f}\")\n",
    "    losses_train.append(loss.item())\n",
    "\n",
    "    # break"
   ]
  },
  {
   "cell_type": "code",
   "execution_count": 219,
   "id": "de1acb65-4652-4fb6-87e9-36719dda1e8a",
   "metadata": {},
   "outputs": [
    {
     "data": {
      "text/plain": [
       "tensor([[ 0.0223, -0.6618, -0.5731,  0.4192,  0.1605, -0.8547, -0.7391,  0.6324,\n",
       "         -0.7553, -0.5039, -0.1761, -0.6999, -0.4937, -0.2823,  0.4362, -0.4203,\n",
       "         -0.9169, -0.2190,  0.1865, -0.1507, -0.5304, -0.1457,  0.1160, -0.2898,\n",
       "         -0.0368, -0.2800, -0.3027,  0.8285,  0.0504,  0.4549,  0.1307,  0.2023,\n",
       "         -0.4611, -0.9046,  0.4304, -0.9926, -0.7489,  0.4007, -0.1349, -0.3541,\n",
       "         -0.4252,  0.1086, -0.1958,  0.0126,  0.6988,  0.9469,  1.0195, -0.2858,\n",
       "         -0.6456,  0.5835,  0.1763, -0.4587, -0.5309,  0.1338, -0.3592,  0.2038,\n",
       "          0.7529,  0.3834, -0.7968,  0.0363,  0.7494, -0.0719, -0.8505, -0.3780,\n",
       "         -0.3505,  0.0141, -0.8263,  0.5192, -1.0336, -0.0030, -0.0963, -0.3771,\n",
       "         -0.6781,  0.2040,  0.1863,  0.2675, -0.0590, -0.5839, -0.5545,  0.4280,\n",
       "          0.0979,  0.1420,  0.4135,  0.2038,  0.1949, -0.7347, -0.5295, -0.0417,\n",
       "         -0.1049, -0.6100, -0.1783, -0.1822, -0.0077, -0.4197, -0.5773, -0.3743,\n",
       "          0.6711, -0.4257, -0.0865, -1.1818, -0.7769,  0.5231, -0.0841, -0.2496,\n",
       "         -0.0743, -0.3759, -0.4604,  0.0320,  0.4238, -0.3218, -0.0418,  0.5214,\n",
       "          0.5760, -0.9225,  0.0207,  0.0527,  0.1585,  0.0737,  0.1241,  0.3836,\n",
       "          0.9058, -0.5201, -0.0269, -0.2516,  0.0708, -0.2866,  0.1972,  0.4904,\n",
       "          0.2959,  0.7913,  0.6962,  0.3453,  0.5082,  0.4312, -0.2880,  0.1415,\n",
       "          0.6639,  0.3650, -0.7716, -0.5276, -0.0477, -0.4317, -0.9902, -0.3178,\n",
       "         -0.4882,  0.4554,  0.1662,  0.1015,  0.6054, -0.0623, -0.3045,  0.6817,\n",
       "         -0.2104, -0.2154,  0.3879, -0.4263,  0.1799,  0.8297, -0.0247,  0.0492,\n",
       "          0.0279,  0.0545, -0.3029, -0.8147, -0.3857,  0.4089,  0.1586,  0.1999,\n",
       "         -0.5534,  0.1129,  0.1070, -0.0599, -0.4667,  0.1440,  0.2368, -0.0732,\n",
       "          0.3607, -0.1959, -0.0551,  0.1260, -0.2019,  0.0380,  0.4655,  0.4317,\n",
       "         -0.0185,  0.4684,  1.5921, -0.1900, -0.6742, -0.6633,  0.0123, -0.6569,\n",
       "          1.0321,  0.0208, -0.4834,  0.7745, -0.6772, -0.2126,  0.1957,  0.5923]])"
      ]
     },
     "execution_count": 219,
     "metadata": {},
     "output_type": "execute_result"
    }
   ],
   "source": [
    "bnmean"
   ]
  },
  {
   "cell_type": "code",
   "execution_count": 220,
   "id": "41f2bf52-ec63-445d-8441-ad34bc9c9b94",
   "metadata": {},
   "outputs": [
    {
     "data": {
      "text/plain": [
       "tensor([[ 0.0243, -0.6780, -0.5688,  0.4195,  0.1662, -0.8555, -0.7359,  0.6416,\n",
       "         -0.7604, -0.5003, -0.1704, -0.6919, -0.4910, -0.2869,  0.4440, -0.4114,\n",
       "         -0.9121, -0.2133,  0.1837, -0.1372, -0.5316, -0.1418,  0.1249, -0.2864,\n",
       "         -0.0312, -0.2865, -0.3065,  0.8289,  0.0581,  0.4614,  0.1317,  0.2036,\n",
       "         -0.4584, -0.9038,  0.4413, -0.9909, -0.7480,  0.4016, -0.1368, -0.3599,\n",
       "         -0.4126,  0.1024, -0.1883,  0.0220,  0.6986,  0.9479,  1.0376, -0.2818,\n",
       "         -0.6408,  0.5737,  0.1759, -0.4650, -0.5312,  0.1363, -0.3549,  0.1978,\n",
       "          0.7462,  0.3783, -0.8039,  0.0293,  0.7460, -0.0642, -0.8485, -0.3717,\n",
       "         -0.3645,  0.0056, -0.8122,  0.5245, -1.0411,  0.0036, -0.0900, -0.3694,\n",
       "         -0.6723,  0.1916,  0.1883,  0.2710, -0.0551, -0.5710, -0.5505,  0.4291,\n",
       "          0.1006,  0.1434,  0.4064,  0.2056,  0.1992, -0.7350, -0.5299, -0.0326,\n",
       "         -0.1074, -0.6044, -0.1800, -0.1754, -0.0127, -0.4167, -0.5738, -0.3883,\n",
       "          0.6751, -0.4248, -0.0844, -1.1717, -0.7870,  0.5241, -0.0919, -0.2505,\n",
       "         -0.0745, -0.3667, -0.4694,  0.0301,  0.4239, -0.3283, -0.0472,  0.5245,\n",
       "          0.5837, -0.9183,  0.0182,  0.0481,  0.1555,  0.0810,  0.1307,  0.3827,\n",
       "          0.9015, -0.5223, -0.0257, -0.2562,  0.0687, -0.2898,  0.2036,  0.4795,\n",
       "          0.2929,  0.7889,  0.7003,  0.3515,  0.5079,  0.4327, -0.2957,  0.1390,\n",
       "          0.6545,  0.3470, -0.7613, -0.5227, -0.0438, -0.4296, -0.9893, -0.3178,\n",
       "         -0.4845,  0.4549,  0.1576,  0.0992,  0.6177, -0.0696, -0.3088,  0.6825,\n",
       "         -0.2086, -0.2188,  0.3908, -0.4364,  0.1866,  0.8321, -0.0224,  0.0387,\n",
       "          0.0191,  0.0582, -0.3019, -0.8129, -0.3891,  0.4132,  0.1482,  0.1965,\n",
       "         -0.5523,  0.1130,  0.1083, -0.0661, -0.4693,  0.1533,  0.2404, -0.0807,\n",
       "          0.3733, -0.2009, -0.0445,  0.1285, -0.2026,  0.0376,  0.4729,  0.4332,\n",
       "         -0.0376,  0.4562,  1.5936, -0.1865, -0.6658, -0.6518,  0.0053, -0.6475,\n",
       "          1.0241,  0.0245, -0.4792,  0.7827, -0.6843, -0.2060,  0.2019,  0.5802]])"
      ]
     },
     "execution_count": 220,
     "metadata": {},
     "output_type": "execute_result"
    }
   ],
   "source": [
    "bnmean_running"
   ]
  },
  {
   "cell_type": "code",
   "execution_count": 211,
   "id": "a9e39a5c-fdd6-437c-a24f-6d38e1ab5725",
   "metadata": {},
   "outputs": [
    {
     "data": {
      "text/plain": [
       "<matplotlib.image.AxesImage at 0x7f145073ce10>"
      ]
     },
     "execution_count": 211,
     "metadata": {},
     "output_type": "execute_result"
    },
    {
     "data": {
      "image/png": "[encoded data removed]",
      "text/plain": [
       "<Figure size 2000x1000 with 1 Axes>"
      ]
     },
     "metadata": {},
     "output_type": "display_data"
    }
   ],
   "source": [
    "plt.figure(figsize = (20,10))\n",
    "plt.imshow(h.abs() > 0.99, cmap = 'gray', interpolation = 'nearest')"
   ]
  },
  {
   "cell_type": "code",
   "execution_count": 212,
   "id": "bf346632-11a9-4621-b1a3-6d803f6f54c4",
   "metadata": {},
   "outputs": [
    {
     "data": {
      "image/png": "[encoded data removed]",
      "text/plain": [
       "<Figure size 640x480 with 1 Axes>"
      ]
     },
     "metadata": {},
     "output_type": "display_data"
    }
   ],
   "source": [
    "plt.hist(hpreact.view(-1).tolist(), 50);"
   ]
  },
  {
   "cell_type": "code",
   "execution_count": 213,
   "id": "c0afac48-e488-4b62-9472-9d0337679ef8",
   "metadata": {},
   "outputs": [
    {
     "data": {
      "image/png": "[encoded data removed]",
      "text/plain": [
       "<Figure size 640x480 with 1 Axes>"
      ]
     },
     "metadata": {},
     "output_type": "display_data"
    }
   ],
   "source": [
    "plt.hist(h.view(-1).tolist(), 50);"
   ]
  },
  {
   "cell_type": "code",
   "execution_count": 214,
   "id": "6f2a9f0f-5388-4437-a4e3-0d421f673d42",
   "metadata": {},
   "outputs": [
    {
     "data": {
      "text/plain": [
       "[<matplotlib.lines.Line2D at 0x7f14509b6710>]"
      ]
     },
     "execution_count": 214,
     "metadata": {},
     "output_type": "execute_result"
    },
    {
     "data": {
      "image/png": "[encoded data removed]",
      "text/plain": [
       "<Figure size 640x480 with 1 Axes>"
      ]
     },
     "metadata": {},
     "output_type": "display_data"
    }
   ],
   "source": [
    "plt.plot(losses_train)"
   ]
  },
  {
   "cell_type": "code",
   "execution_count": 215,
   "id": "5bcd7ce7-98f5-4550-b5ff-3f1f0989f311",
   "metadata": {},
   "outputs": [],
   "source": [
    "# with torch.no_grad():\n",
    "#     emb = C[X_trn]\n",
    "#     embcat = emb.view((emb.shape[0], -1))\n",
    "#     hpreact = embcat @ W1 + b1\n",
    "    \n",
    "#     # Calculating mean and std for entire training \n",
    "#     bnmean = hpreact.mean(0, keepdim = True)\n",
    "#     bnstd = hpreact.std(0, keepdim = True)    "
   ]
  },
  {
   "cell_type": "code",
   "execution_count": 216,
   "id": "1720cc0f-8fd7-47a5-8906-c97a55a6385e",
   "metadata": {},
   "outputs": [
    {
     "name": "stdout",
     "output_type": "stream",
     "text": [
      "train 2.230093002319336\n",
      "val 2.4673449993133545\n"
     ]
    }
   ],
   "source": [
    "@torch.no_grad()\n",
    "def split_loss(split):\n",
    "    X,Y = {\n",
    "        'train': (X_trn, Y_trn),\n",
    "        'val' : (X_dev, Y_dev),\n",
    "        'test' : (X_tst, Y_tst),\n",
    "    }[split]\n",
    "    emb = C[X]\n",
    "    embcat = emb.view((emb.shape[0], -1))\n",
    "    hpreact = embcat @ W1 + b1\n",
    "    hpreact = bngain * (hpreact - bnmean_running) / bnstd_running + bnbias # Batch norm formula and scaling and shifting  \n",
    "    h = torch.tanh(hpreact)\n",
    "    logits = h @ W2 + b2\n",
    "    loss = F.cross_entropy(logits,  Y) \n",
    "    print(split, loss.item())\n",
    "\n",
    "split_loss('train')\n",
    "split_loss('val')"
   ]
  },
  {
   "cell_type": "code",
   "execution_count": 221,
   "id": "05d32316-e15e-47d7-bcf0-bdfb7a2f404a",
   "metadata": {},
   "outputs": [
    {
     "name": "stdout",
     "output_type": "stream",
     "text": [
      "awmzkjjmzhvtjswmwkkjpjpjjfjyjfkjzkwjkkjdmazawwfwsjmffpdjuckmkjjzzgpkggehpvdgfkkkgjgujghjqpkwcjmjkjzhjgjzkccwjkqsbzjkkjzkjtjgjbcmkdvcxmgwjsckkjjjhhwjnzhgwjdckkbgkhfcghmaknjahjjvzkkafjzcjmpgdjgeczcwzjkwjjjwmkdtglmkjnjzzgmplhjkhkgjcdjkzfzjkjjbcjymmdsbcpkmkgtjdkkhjjyamjjkzjktjjkjkjjjknmjjzjtjkcjgffjhdzjgckqkangywwfkdkjskyjpckcwcwkajunhjmfkmhzjimssbjlcjdshzjjepgmjjqbzjjgdvjkfwjszkgcajmwjxjjmrapjkpkjmrkjumcjzkszsmjgjalhzmcambkjcezjjpfbzvjzajgpgjvknbfnhmgapqjfhsaztjjgknmaehjqjqkckjzdgfrgkjpkjkmhsjjjnmqbjkpkkjkkkkjgjjkpnzjjskemgnjkjobkfkafksppmmfjfgzbkjkgfjzfjkhkkjjcbsjzjktdagjkpzjdczmdwgofjsjmkmwmcdbggzmokkjjglcvrwxkkmjkfjfpzfqmjmjsgznfmkuakbfdccjhmkkjybgkjhjdcgfkpjkgfdjskzvkrohjgjzbgjmgkblygjkejkdjumkhjjjkkjjargjgpkkxbjfkwdbjapfzzjwfgxkjwjgjttbtmwvjffgpmgwfmkpbnjkfjjfqmsvkjgzjhvffzjkjjadbhzjjwfkskjjjsbjmsjjptzjkjgkmgnswpwntkujgkmbgzcwckakzkvjznjphazowgakjhdkaxukqjjwjjfjcjfzrjjhkfgkipjsjkshjjmmamcjbmgjmxpjyzajjkkjjjzjjkmhabgbjmkyzgjjgnjdkgjjecjgjkjksgmqeknmkbpjkfjzkhjggddjbgvgpgvkpvrghwjjgjkszbzgzcbbkjjmfcbxgffnwpskgdjzchjamvrggkkjpssmyhjszjzsmjqzykmpjfjgcjjwmkjjcomjjfpjgjvgcjgskjkdkaogbkfjkmkfdkajnhgjajvzyjkzvkcjhwjmtgjjgckrjzjjjbakujkwjwhzwjjkpmgzsjjogtqmgjjgghjhmsjjhkjjwfzvtjkhjjgfkjafrwbkcmjjfnmgjmkdszjjjmczbmbzcmfmjjspsjfdbsojjnukkkgjjjkkfxkmjcufkcjokjzgkp.\n"
     ]
    }
   ],
   "source": [
    "# Sampling from the model\n",
    "g  = torch.Generator().manual_seed(123)\n",
    "for i in range(1):\n",
    "    out = []\n",
    "    context = [0] * block_size\n",
    "    while True:\n",
    "        emb = C[torch.tensor([context])]\n",
    "        embcat = emb.view((emb.shape[0], -1))\n",
    "        h = torch.tanh(embcat @ W1 + b1)\n",
    "        logits = h @ W2 + b2\n",
    "        probs = F.softmax(logits, dim = 1)\n",
    "\n",
    "        ix = torch.multinomial(probs, num_samples = 1, replacement = True, generator = g).item()\n",
    "        out.append(itos[ix])\n",
    "        if ix == 0:\n",
    "            break\n",
    "    print(''.join(out))"
   ]
  },
  {
   "cell_type": "code",
   "execution_count": null,
   "id": "e9e6287c-3619-4325-93d9-ea16d175a4a4",
   "metadata": {},
   "outputs": [],
   "source": []
  },
  {
   "cell_type": "code",
   "execution_count": null,
   "id": "89b048e6-1120-43fb-95b4-6bc88b3c6e97",
   "metadata": {},
   "outputs": [],
   "source": []
  }
 ],
 "metadata": {
  "kernelspec": {
   "display_name": "Python 3 (ipykernel)",
   "language": "python",
   "name": "python3"
  },
  "language_info": {
   "codemirror_mode": {
    "name": "ipython",
    "version": 3
   },
   "file_extension": ".py",
   "mimetype": "text/x-python",
   "name": "python",
   "nbconvert_exporter": "python",
   "pygments_lexer": "ipython3",
   "version": "3.13.2"
  }
 },
 "nbformat": 4,
 "nbformat_minor": 5
}

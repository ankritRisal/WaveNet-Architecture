{
 "cells": [
  {
   "cell_type": "code",
   "execution_count": 1,
   "id": "132e0839-1c6a-4a5d-b240-e07bfd0bcd7e",
   "metadata": {},
   "outputs": [],
   "source": [
    "import torch\n",
    "import torch.nn.functional as F\n",
    "import matplotlib.pyplot as plt \n",
    "%matplotlib inline"
   ]
  },
  {
   "cell_type": "code",
   "execution_count": 2,
   "id": "b1a9e189-5a1f-4f3e-8e60-28afa369c807",
   "metadata": {},
   "outputs": [],
   "source": [
    "# data read \n",
    "words = open('/home/risal/X3s4c5/Makemore/names.txt','r').read().splitlines()"
   ]
  },
  {
   "cell_type": "code",
   "execution_count": 3,
   "id": "c27ff384-aff5-4263-ba4f-1856d80470bb",
   "metadata": {},
   "outputs": [],
   "source": [
    "chars = sorted(list(set(''.join(words))))\n",
    "stoi = {s:i+1 for i,s in enumerate(chars)}\n",
    "stoi['.'] = 0\n",
    "itos = {i:s for s,i in stoi.items()}\n",
    "vocab_size = len(itos)"
   ]
  },
  {
   "cell_type": "code",
   "execution_count": 4,
   "id": "87db5c9a-c1dd-4b67-b5c5-d744bf1b891b",
   "metadata": {},
   "outputs": [],
   "source": [
    "import random \n",
    "random.seed(42)\n",
    "random.shuffle(words)"
   ]
  },
  {
   "cell_type": "code",
   "execution_count": 5,
   "id": "d8581ec2-95b9-4c86-8f2e-df99fb297cb3",
   "metadata": {},
   "outputs": [],
   "source": [
    "# build the dataset\n",
    "block_size = 8 # context length \n",
    "def build_dataset(words):\n",
    "    X, Y= [] , []\n",
    "    \n",
    "    for w in words:\n",
    "        context  = [0] * block_size\n",
    "        for ch in w + '.':\n",
    "            ix = stoi[ch]\n",
    "            X.append(context)\n",
    "            Y.append(ix)\n",
    "            context = context[1:] + [ix]\n",
    "    \n",
    "    X = torch.tensor(X)\n",
    "    Y = torch.tensor(Y)\n",
    "    return X,Y\n",
    "\n",
    "n1 = int(0.8 * len(words))\n",
    "n2 = int(0.9 * len(words))\n",
    "\n",
    "X_trn, Y_trn = build_dataset(words[:n1])\n",
    "X_dev, Y_dev = build_dataset(words[n1:n2])\n",
    "X_tst, Y_tst = build_dataset(words[n2:])"
   ]
  },
  {
   "cell_type": "code",
   "execution_count": 6,
   "id": "4ca68e12-baaf-4325-bb7e-d834d2ab1a7e",
   "metadata": {},
   "outputs": [],
   "source": [
    "class Linear:\n",
    "    def __init__(self, fan_in, fan_out, bias=True):\n",
    "        self.weight = torch.randn((fan_in, fan_out)) / fan_in **0.5 # kamming init\n",
    "        self.bias = torch.zeros(fan_out) if bias else None\n",
    "\n",
    "    def __call__(self,x):\n",
    "        self.out = x @ self.weight\n",
    "        if self.bias is not None:\n",
    "            self.out += self.bias \n",
    "        return self.out\n",
    "\n",
    "    def parameters(self):\n",
    "        return [self.weight] + ([] if self.bias is None else [self.bias])\n",
    "\n",
    "class BatchNorm1d:\n",
    "    def __init__(self, dim, eps = 1e-5, momentum = 0.1):\n",
    "        self.eps = eps \n",
    "        self.momentum = momentum \n",
    "        self.training = True\n",
    "        # Parameters \n",
    "        self.gamma = torch.ones(dim)\n",
    "        self.beta = torch.zeros(dim)\n",
    "        # Buffer \n",
    "        self.running_mean = torch.zeros(dim)\n",
    "        self.running_var = torch.ones(dim)\n",
    "\n",
    "    def __call__(self, x):\n",
    "        if self.training:\n",
    "            if x.ndim == 2:\n",
    "                dim = 0\n",
    "            elif x.ndim == 3:\n",
    "                dim= (0,1)\n",
    "            xmean = x.mean(dim, keepdim = True)\n",
    "            xvar = x.var(dim, keepdim = True)\n",
    "        else:\n",
    "            xmean = self.running_mean\n",
    "            xvar = self.running_var\n",
    "        xhat = (x-xmean) / torch.sqrt(xvar + self.eps) \n",
    "        self.out = self.gamma  * xhat + self.beta\n",
    "        # update buffers \n",
    "        if self.training:\n",
    "            with torch.no_grad():\n",
    "                self.running_mean = (1 - self.momentum) * self.running_mean + self.momentum * xmean \n",
    "                self.running_var = (1 - self.momentum) * self.running_var + self.momentum * xvar\n",
    "        return self.out\n",
    "\n",
    "    def parameters(self):\n",
    "        return [self.gamma, self.beta]\n",
    "\n",
    "class Tanh:\n",
    "    def __call__(self,x):\n",
    "        self.out = torch.tanh(x)\n",
    "        return self.out\n",
    "\n",
    "    def parameters(self):\n",
    "        return []\n",
    "\n",
    "class Embedding:\n",
    "    def __init__(self, num_embeddings, embedding_dim):\n",
    "        self.weight = torch.randn((num_embeddings, embedding_dim))\n",
    "\n",
    "    def __call__(self, IX):\n",
    "        self.out = self.weight[IX]\n",
    "        return self.out\n",
    "\n",
    "    def parameters(self):\n",
    "        return [self.weight]\n",
    "\n",
    "class FlattenConsecutive:\n",
    "    def __init__(self, n):\n",
    "        self.n = n \n",
    "    def __call__(self, x):\n",
    "        B, T, C = x.shape\n",
    "        x = x.view(B, T//self.n, C*self.n)\n",
    "        if x.shape[1] == 1:\n",
    "            x = x.squeeze(1)\n",
    "        self.out = x\n",
    "        return self.out\n",
    "\n",
    "    def parameters(self):\n",
    "        return []\n",
    "\n",
    "class Sequential: # Pytorch container\n",
    "    def __init__(self, layers):\n",
    "        self.layers = layers\n",
    "\n",
    "    def __call__(self, x):\n",
    "        for layer in self.layers:\n",
    "            x = layer(x)\n",
    "        self.out = x\n",
    "        return self.out\n",
    "    def parameters(self):\n",
    "        return [p for layer in self.layers for p in layer.parameters()]\n",
    "    "
   ]
  },
  {
   "cell_type": "code",
   "execution_count": 7,
   "id": "fb5463d9-3dae-4c9b-88d5-3ff9fb3a92a4",
   "metadata": {},
   "outputs": [],
   "source": [
    "torch.manual_seed(42);"
   ]
  },
  {
   "cell_type": "code",
   "execution_count": 8,
   "id": "dc3d730b-ae4d-4892-9992-fde7e8d6c6be",
   "metadata": {},
   "outputs": [
    {
     "name": "stdout",
     "output_type": "stream",
     "text": [
      "23607\n"
     ]
    }
   ],
   "source": [
    "n_emb = 10\n",
    "n_hidden = 70\n",
    "\n",
    "model = Sequential([\n",
    "    Embedding(vocab_size, n_emb),\n",
    "    FlattenConsecutive(2), Linear(n_emb * 2, n_hidden, bias = False), BatchNorm1d(n_hidden), Tanh(),\n",
    "    FlattenConsecutive(2), Linear(n_hidden * 2, n_hidden, bias = False), BatchNorm1d(n_hidden), Tanh(),\n",
    "    FlattenConsecutive(2), Linear(n_hidden * 2, n_hidden, bias = False), BatchNorm1d(n_hidden), Tanh(),\n",
    "    Linear(n_hidden, vocab_size),\n",
    "])\n",
    "                 \n",
    "with torch.no_grad():\n",
    "    model.layers[-1].weight *= 0.1 \n",
    "\n",
    "parameters = model.parameters()\n",
    "print(sum(p.nelement() for p in parameters))\n",
    "for p in parameters:\n",
    "    p.requires_grad =  True"
   ]
  },
  {
   "cell_type": "code",
   "execution_count": 9,
   "id": "942ed1c2-7140-4f37-bb1b-ffbf98a7cbab",
   "metadata": {},
   "outputs": [
    {
     "name": "stdout",
     "output_type": "stream",
     "text": [
      "      0 /  200000: 3.2840\n",
      "  10000 /  200000: 2.2190\n",
      "  20000 /  200000: 2.4536\n",
      "  30000 /  200000: 2.1879\n",
      "  40000 /  200000: 1.9964\n",
      "  50000 /  200000: 2.4355\n",
      "  60000 /  200000: 2.1421\n",
      "  70000 /  200000: 2.4316\n",
      "  80000 /  200000: 2.4204\n",
      "  90000 /  200000: 1.8474\n",
      " 100000 /  200000: 1.8980\n",
      " 110000 /  200000: 1.9596\n",
      " 120000 /  200000: 2.1868\n",
      " 130000 /  200000: 2.1598\n",
      " 140000 /  200000: 2.3438\n",
      " 150000 /  200000: 1.9072\n",
      " 160000 /  200000: 2.0417\n",
      " 170000 /  200000: 1.8743\n",
      " 180000 /  200000: 1.8977\n",
      " 190000 /  200000: 2.0440\n"
     ]
    }
   ],
   "source": [
    "# MLP\n",
    "max_steps = 200000\n",
    "batch_size = 32\n",
    "losses_train = []\n",
    "\n",
    "for i in range(max_steps):\n",
    "    \n",
    "    # mini batch\n",
    "    ix = torch.randint(0,X_trn.shape[0], (batch_size,))\n",
    "    Xb, Yb = X_trn[ix], Y_trn[ix]\n",
    "    \n",
    "    # forward passes \n",
    "    logits = model(Xb)\n",
    "    loss = F.cross_entropy(logits, Yb) \n",
    "\n",
    "    # backward pass \n",
    "    for p in parameters:\n",
    "        p.grad = None\n",
    "    loss.backward()\n",
    "    \n",
    "    # update params (using simmple SGD)\n",
    "    lr = 0.01 if i < 150000 else 0.0001\n",
    "    for p in parameters:\n",
    "        p.data += -lr * p.grad\n",
    "\n",
    "    # track stats\n",
    "    if i % 10000 == 0:\n",
    "        print(f\"{i:7d} / {max_steps:7d}: {loss.item():.4f}\")\n",
    "    losses_train.append(loss.item())\n",
    "\n",
    "    # break"
   ]
  },
  {
   "cell_type": "code",
   "execution_count": 16,
   "id": "c482ddbf-102a-4f5e-9503-8e6431bc473a",
   "metadata": {},
   "outputs": [
    {
     "data": {
      "text/plain": [
       "[<matplotlib.lines.Line2D at 0x7285d3e19450>]"
      ]
     },
     "execution_count": 16,
     "metadata": {},
     "output_type": "execute_result"
    },
    {
     "data": {
      "image/png": "[encoded data removed]",
      "text/plain": [
       "<Figure size 640x480 with 1 Axes>"
      ]
     },
     "metadata": {},
     "output_type": "display_data"
    }
   ],
   "source": [
    "plt.plot(torch.tensor(losses_train).view(-1,1000).mean(1))"
   ]
  },
  {
   "cell_type": "code",
   "execution_count": 17,
   "id": "a31d9a35-8442-4786-adcf-0edc348db21d",
   "metadata": {},
   "outputs": [
    {
     "data": {
      "text/plain": [
       "[<matplotlib.lines.Line2D at 0x7285d3ea8190>]"
      ]
     },
     "execution_count": 17,
     "metadata": {},
     "output_type": "execute_result"
    },
    {
     "data": {
      "image/png": "[encoded data removed]",
      "text/plain": [
       "<Figure size 640x480 with 1 Axes>"
      ]
     },
     "metadata": {},
     "output_type": "display_data"
    }
   ],
   "source": [
    "plt.plot(losses_train)"
   ]
  },
  {
   "cell_type": "code",
   "execution_count": 18,
   "id": "31f60ee2-875f-479d-a3e0-3fdbb6bffa4b",
   "metadata": {},
   "outputs": [
    {
     "name": "stdout",
     "output_type": "stream",
     "text": [
      "Embedding : (1, 8, 10)\n",
      "FlattenConsecutive : (1, 4, 20)\n",
      "Linear : (1, 4, 70)\n",
      "BatchNorm1d : (1, 4, 70)\n",
      "Tanh : (1, 4, 70)\n",
      "FlattenConsecutive : (1, 2, 140)\n",
      "Linear : (1, 2, 70)\n",
      "BatchNorm1d : (1, 2, 70)\n",
      "Tanh : (1, 2, 70)\n",
      "FlattenConsecutive : (1, 140)\n",
      "Linear : (1, 70)\n",
      "BatchNorm1d : (1, 70)\n",
      "Tanh : (1, 70)\n",
      "Linear : (1, 27)\n"
     ]
    }
   ],
   "source": [
    "for layer in model.layers:\n",
    "    print(layer.__class__.__name__,  ':', tuple(layer.out.shape))"
   ]
  },
  {
   "cell_type": "code",
   "execution_count": 19,
   "id": "c5e8fc77-34c8-4cf7-ab3f-ef7c0aa4c6b7",
   "metadata": {},
   "outputs": [],
   "source": [
    "# Put layers into eval mode \n",
    "for layer in model.layers:\n",
    "    layer.training = False"
   ]
  },
  {
   "cell_type": "code",
   "execution_count": 20,
   "id": "5e5e6bf3-847f-4958-96e5-2246271669df",
   "metadata": {},
   "outputs": [
    {
     "name": "stdout",
     "output_type": "stream",
     "text": [
      "train 1.98310387134552\n",
      "val 2.0489096641540527\n"
     ]
    }
   ],
   "source": [
    "@torch.no_grad()\n",
    "def split_loss(split):\n",
    "    count = 0\n",
    "    X,y = {\n",
    "        'train': (X_trn, Y_trn),\n",
    "        'val' : (X_dev, Y_dev),\n",
    "        'test' : (X_tst, Y_tst),\n",
    "    }[split]\n",
    "    logits = model(X)\n",
    "    loss = F.cross_entropy(logits, y) \n",
    "    print(split, loss.item())\n",
    "\n",
    "split_loss('train')\n",
    "split_loss('val')"
   ]
  },
  {
   "cell_type": "code",
   "execution_count": 21,
   "id": "b0fa32f4-b3cd-47e5-a2c4-c9965846d882",
   "metadata": {},
   "outputs": [
    {
     "name": "stdout",
     "output_type": "stream",
     "text": [
      "abduen.\n",
      "taedi.\n",
      "ilias.\n",
      "auv.\n",
      "alliss.\n",
      "zuvon.\n",
      "elicie.\n",
      "fostanuiah.\n",
      "adhuan.\n",
      "alan.\n",
      "zamaun.\n",
      "jayel.\n",
      "amona.\n",
      "dahlie.\n",
      "hatad.\n",
      "nazinah.\n",
      "drishaan.\n",
      "milia.\n",
      "riareis.\n",
      "jasper.\n"
     ]
    }
   ],
   "source": [
    "for i in range(20):\n",
    "    out = []\n",
    "    context = [0] * block_size\n",
    "    while True:\n",
    "        logits = model(torch.tensor([context])) \n",
    "        probs = F.softmax(logits, dim = 1)\n",
    "        ix = torch.multinomial(probs, num_samples = 1, replacement = True).item()\n",
    "        # shift context window and track the samples\n",
    "        context = context[1:] + [ix]\n",
    "        out.append(ix)\n",
    "        # if we sample the special '.' token, break\n",
    "        if ix == 0:\n",
    "            break\n",
    "            \n",
    "    print(''.join(itos[i] for i in out)) # decade and print the generate word"
   ]
  },
  {
   "cell_type": "code",
   "execution_count": null,
   "id": "bef5a8c9-3266-4838-bb69-4bbddc5f656b",
   "metadata": {},
   "outputs": [],
   "source": []
  }
 ],
 "metadata": {
  "kernelspec": {
   "display_name": "Python 3 (ipykernel)",
   "language": "python",
   "name": "python3"
  },
  "language_info": {
   "codemirror_mode": {
    "name": "ipython",
    "version": 3
   },
   "file_extension": ".py",
   "mimetype": "text/x-python",
   "name": "python",
   "nbconvert_exporter": "python",
   "pygments_lexer": "ipython3",
   "version": "3.13.2"
  }
 },
 "nbformat": 4,
 "nbformat_minor": 5
}

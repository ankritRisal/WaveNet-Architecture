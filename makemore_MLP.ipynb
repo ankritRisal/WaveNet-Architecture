{
 "cells": [
  {
   "cell_type": "code",
   "execution_count": 1,
   "id": "0ed5e1f7-18ea-4555-85c9-6a5fda7652a0",
   "metadata": {},
   "outputs": [],
   "source": [
    "import torch\n",
    "import torch.nn.functional as F\n",
    "import matplotlib.pyplot as plt\n",
    "%matplotlib inline"
   ]
  },
  {
   "cell_type": "code",
   "execution_count": 2,
   "id": "76820514-df8b-4b9e-bdd6-ee59cdce2776",
   "metadata": {},
   "outputs": [],
   "source": [
    "# data read \n",
    "words = open('/home/risal/X3s4c5/Makemore/names.txt','r').read().splitlines()"
   ]
  },
  {
   "cell_type": "code",
   "execution_count": 3,
   "id": "4a466ee8-1318-4a3c-b8df-50feae91dbbb",
   "metadata": {},
   "outputs": [
    {
     "data": {
      "text/plain": [
       "32033"
      ]
     },
     "execution_count": 3,
     "metadata": {},
     "output_type": "execute_result"
    }
   ],
   "source": [
    "len(words)"
   ]
  },
  {
   "cell_type": "code",
   "execution_count": 4,
   "id": "e7d8201a-aa08-4cd8-883d-98f08a35b775",
   "metadata": {},
   "outputs": [],
   "source": [
    "chars = sorted(list(set(''.join(words))))\n",
    "stoi = {s:i+1 for i,s in enumerate(chars)}\n",
    "stoi['.'] = 0\n",
    "itos = {i:s for s,i in stoi.items()}"
   ]
  },
  {
   "cell_type": "code",
   "execution_count": 5,
   "id": "c9453c6c-7dda-43a1-bd18-6ad6790135e8",
   "metadata": {},
   "outputs": [],
   "source": [
    "# Data components \n",
    "def build_dataset(words):\n",
    "    X, Y= [] , []\n",
    "    block_size = 3\n",
    "    \n",
    "    for w in words:\n",
    "        context  = [0] * block_size\n",
    "        for ch in w + '.':\n",
    "            ix = stoi[ch]\n",
    "            X.append(context)\n",
    "            Y.append(ix)\n",
    "            context = context[1:] + [ix]\n",
    "    \n",
    "    X = torch.tensor(X)\n",
    "    Y = torch.tensor(Y)\n",
    "    return X,Y\n",
    "\n",
    "import random\n",
    "random.seed(42)\n",
    "n1 = int(0.8 * len(words))\n",
    "n2 = int(0.9 * len(words))\n",
    "\n",
    "X_trn, Y_trn = build_dataset(words[:n1])\n",
    "X_dev, Y_dev = build_dataset(words[n1:n2])\n",
    "X_tst, Y_tst = build_dataset(words[n2:])"
   ]
  },
  {
   "cell_type": "code",
   "execution_count": 6,
   "id": "f9b17a1e-3d8b-4e43-b8f4-452e6ee6966f",
   "metadata": {},
   "outputs": [
    {
     "data": {
      "text/plain": [
       "(torch.Size([182778, 3]), torch.Size([22633, 3]), torch.Size([22735, 3]))"
      ]
     },
     "execution_count": 6,
     "metadata": {},
     "output_type": "execute_result"
    }
   ],
   "source": [
    "X_trn.shape, X_dev.shape, X_tst.shape"
   ]
  },
  {
   "cell_type": "code",
   "execution_count": 18,
   "id": "155295e0-b485-4ed2-b929-04b66b598480",
   "metadata": {},
   "outputs": [
    {
     "data": {
      "text/plain": [
       "(25626, 28829)"
      ]
     },
     "execution_count": 18,
     "metadata": {},
     "output_type": "execute_result"
    }
   ],
   "source": [
    "n1, n2"
   ]
  },
  {
   "cell_type": "code",
   "execution_count": 19,
   "id": "30926157-9b99-4656-9928-c500dfe0e8ff",
   "metadata": {},
   "outputs": [
    {
     "ename": "NameError",
     "evalue": "name 'X' is not defined",
     "output_type": "error",
     "traceback": [
      "\u001b[31m---------------------------------------------------------------------------\u001b[39m",
      "\u001b[31mNameError\u001b[39m                                 Traceback (most recent call last)",
      "\u001b[36mCell\u001b[39m\u001b[36m \u001b[39m\u001b[32mIn[19]\u001b[39m\u001b[32m, line 1\u001b[39m\n\u001b[32m----> \u001b[39m\u001b[32m1\u001b[39m \u001b[43mX\u001b[49m.shape, Y.shape, \u001b[38;5;28mlen\u001b[39m(words)\n",
      "\u001b[31mNameError\u001b[39m: name 'X' is not defined"
     ]
    }
   ],
   "source": [
    "X.shape, Y.shape, len(words)"
   ]
  },
  {
   "cell_type": "code",
   "execution_count": 20,
   "id": "a2c1cf4a-df68-4cae-af45-12e61418f16d",
   "metadata": {},
   "outputs": [],
   "source": [
    "# creating the embedding look up table \n",
    "C = torch.randn((27,2))"
   ]
  },
  {
   "cell_type": "code",
   "execution_count": 21,
   "id": "3b570fdd-5739-4ec6-8c7a-d984f8f3344f",
   "metadata": {},
   "outputs": [
    {
     "ename": "NameError",
     "evalue": "name 'X' is not defined",
     "output_type": "error",
     "traceback": [
      "\u001b[31m---------------------------------------------------------------------------\u001b[39m",
      "\u001b[31mNameError\u001b[39m                                 Traceback (most recent call last)",
      "\u001b[36mCell\u001b[39m\u001b[36m \u001b[39m\u001b[32mIn[21]\u001b[39m\u001b[32m, line 1\u001b[39m\n\u001b[32m----> \u001b[39m\u001b[32m1\u001b[39m emb = C[\u001b[43mX\u001b[49m]\n\u001b[32m      2\u001b[39m emb.shape\n",
      "\u001b[31mNameError\u001b[39m: name 'X' is not defined"
     ]
    }
   ],
   "source": [
    "emb = C[X]\n",
    "emb.shape"
   ]
  },
  {
   "cell_type": "code",
   "execution_count": 22,
   "id": "29f1956a-4a6f-48f8-b501-1a06cf17dd50",
   "metadata": {},
   "outputs": [],
   "source": [
    "W1 = torch.rand((6,100))\n",
    "b1 = torch.randn(100) "
   ]
  },
  {
   "cell_type": "code",
   "execution_count": 23,
   "id": "3e128d5a-33c8-493e-afcb-17bca7c2873e",
   "metadata": {},
   "outputs": [
    {
     "ename": "NameError",
     "evalue": "name 'emb' is not defined",
     "output_type": "error",
     "traceback": [
      "\u001b[31m---------------------------------------------------------------------------\u001b[39m",
      "\u001b[31mNameError\u001b[39m                                 Traceback (most recent call last)",
      "\u001b[36mCell\u001b[39m\u001b[36m \u001b[39m\u001b[32mIn[23]\u001b[39m\u001b[32m, line 1\u001b[39m\n\u001b[32m----> \u001b[39m\u001b[32m1\u001b[39m torch.cat([\u001b[43memb\u001b[49m[: ,\u001b[32m0\u001b[39m , :], emb[: ,\u001b[32m1\u001b[39m , :], emb[: ,\u001b[32m2\u001b[39m , :]], dim = \u001b[32m1\u001b[39m).shape, W1.shape\n",
      "\u001b[31mNameError\u001b[39m: name 'emb' is not defined"
     ]
    }
   ],
   "source": [
    "torch.cat([emb[: ,0 , :], emb[: ,1 , :], emb[: ,2 , :]], dim = 1).shape, W1.shape"
   ]
  },
  {
   "cell_type": "code",
   "execution_count": 245,
   "id": "25bc29f9-5330-4835-ae6f-bc9e8b3b1b21",
   "metadata": {},
   "outputs": [],
   "source": [
    "h = torch.tanh(emb.view((-1,6)) @ W1 + b1)"
   ]
  },
  {
   "cell_type": "code",
   "execution_count": 246,
   "id": "ac82bd6a-7c46-436b-891a-1666c22c03ff",
   "metadata": {},
   "outputs": [
    {
     "data": {
      "text/plain": [
       "torch.Size([228146, 100])"
      ]
     },
     "execution_count": 246,
     "metadata": {},
     "output_type": "execute_result"
    }
   ],
   "source": [
    "h.shape"
   ]
  },
  {
   "cell_type": "code",
   "execution_count": 247,
   "id": "d8381c4d-126e-4511-a25d-3e823fd7a69d",
   "metadata": {},
   "outputs": [
    {
     "data": {
      "text/plain": [
       "torch.Size([228146, 27])"
      ]
     },
     "execution_count": 247,
     "metadata": {},
     "output_type": "execute_result"
    }
   ],
   "source": [
    "W2 = torch.randn((100,27))\n",
    "b2 = torch.randn(27)\n",
    "logits = h @ W2 + b2\n",
    "logits.shape"
   ]
  },
  {
   "cell_type": "code",
   "execution_count": 248,
   "id": "6a933a7c-a276-4259-a199-ab9fe1f627b8",
   "metadata": {},
   "outputs": [
    {
     "data": {
      "text/plain": [
       "torch.Size([228146, 27])"
      ]
     },
     "execution_count": 248,
     "metadata": {},
     "output_type": "execute_result"
    }
   ],
   "source": [
    "counts = logits.exp()\n",
    "counts.shape"
   ]
  },
  {
   "cell_type": "code",
   "execution_count": 249,
   "id": "2eb925e1-ba15-4d8e-9d73-10eabbf41d66",
   "metadata": {},
   "outputs": [
    {
     "data": {
      "text/plain": [
       "torch.Size([228146, 27])"
      ]
     },
     "execution_count": 249,
     "metadata": {},
     "output_type": "execute_result"
    }
   ],
   "source": [
    "probs = counts / counts.sum(1, keepdims = True)\n",
    "probs.shape"
   ]
  },
  {
   "cell_type": "code",
   "execution_count": 251,
   "id": "ea358501-a30a-40c9-9544-bdf9a6468ecb",
   "metadata": {},
   "outputs": [],
   "source": [
    "loss = -probs[torch.arange(X.shape[0]), Y].log().mean()"
   ]
  },
  {
   "cell_type": "code",
   "execution_count": 252,
   "id": "f1385792-165b-4121-ac44-fbc12d2f7c1e",
   "metadata": {},
   "outputs": [
    {
     "data": {
      "text/plain": [
       "tensor(17.9299)"
      ]
     },
     "execution_count": 252,
     "metadata": {},
     "output_type": "execute_result"
    }
   ],
   "source": [
    "loss"
   ]
  },
  {
   "cell_type": "code",
   "execution_count": 253,
   "id": "0ab61d75-4329-4fa9-b149-9ff3c620d194",
   "metadata": {},
   "outputs": [
    {
     "data": {
      "text/plain": [
       "tensor([ 0,  1,  2,  3,  4,  5,  6,  7,  8,  9, 10, 11, 12, 13, 14, 15, 16, 17,\n",
       "        18, 19, 20, 21, 22, 23, 24, 25, 26, 27, 28, 29, 30, 31])"
      ]
     },
     "execution_count": 253,
     "metadata": {},
     "output_type": "execute_result"
    }
   ],
   "source": [
    "torch.arange(32)"
   ]
  },
  {
   "cell_type": "raw",
   "id": "f1927544-f628-4f61-9e75-d7776b02de0b",
   "metadata": {},
   "source": [
    "Y.shape"
   ]
  },
  {
   "cell_type": "code",
   "execution_count": 50,
   "id": "5e8be0b3-8f73-4cba-bdee-d2fc0c117ba0",
   "metadata": {},
   "outputs": [
    {
     "data": {
      "text/plain": [
       "(torch.Size([182778, 3]), torch.Size([182778]))"
      ]
     },
     "execution_count": 50,
     "metadata": {},
     "output_type": "execute_result"
    }
   ],
   "source": [
    "# Defining \n",
    "X_trn.shape, Y_trn.shape"
   ]
  },
  {
   "cell_type": "code",
   "execution_count": 234,
   "id": "8d02e730-5236-47b9-a01e-46b4dce7c973",
   "metadata": {},
   "outputs": [],
   "source": [
    "g = torch.Generator().manual_seed(123)\n",
    "C = torch.randn((27,10), generator = g) # embedding lookup table 10 -> embedding size\n",
    "W1 = torch.randn((30, 200), generator = g)\n",
    "b1 = torch.randn(200, generator = g)\n",
    "W2 = torch.randn((200,27), generator = g)\n",
    "b2 = torch.randn(27, generator = g)\n",
    "parameters = [W1, b1, W2, b2]"
   ]
  },
  {
   "cell_type": "code",
   "execution_count": 235,
   "id": "f4c394d1-4c38-4c58-8041-876415b2b7e2",
   "metadata": {},
   "outputs": [
    {
     "data": {
      "text/plain": [
       "11627"
      ]
     },
     "execution_count": 235,
     "metadata": {},
     "output_type": "execute_result"
    }
   ],
   "source": [
    "sum(p.nelement() for p in parameters)"
   ]
  },
  {
   "cell_type": "code",
   "execution_count": 236,
   "id": "1de12dfc-810e-44ca-9ff0-0b2959add72e",
   "metadata": {},
   "outputs": [],
   "source": [
    "for p in parameters:\n",
    "    p.requires_grad = True"
   ]
  },
  {
   "cell_type": "code",
   "execution_count": 237,
   "id": "e9ead138-0fa2-46b1-bd48-6e7b70210c10",
   "metadata": {},
   "outputs": [],
   "source": [
    "lre = torch.linspace(-3,0, 1000)\n",
    "lrs = 10**lre"
   ]
  },
  {
   "cell_type": "code",
   "execution_count": 238,
   "id": "0c5303cd-b8ff-44a7-a1ca-a258d293be43",
   "metadata": {},
   "outputs": [],
   "source": [
    "losses = []\n",
    "lrt =[]\n",
    "for i in range(1000):\n",
    "    # mini batch\n",
    "    ix = torch.randint(0,X_trn.shape[0], (128,))\n",
    "    # forward passes \n",
    "    emb = C[X_trn[ix]] # [32, 4, 2]\n",
    "    h = torch.tanh(emb.view((-1,30)) @ W1 + b1)  # [32, 100]\n",
    "    logits = h @ W2 + b2 #  [32, 27]\n",
    "    # counts = logits.exp()\n",
    "    # probs = counts / counts.sum(1, keepdims = True)\n",
    "    # loss = -probs[torch.arange(32), Y].log().mean()\n",
    "    loss = F.cross_entropy(logits,  Y_trn[ix]) \n",
    "\n",
    "    # backward pass \n",
    "    for p in parameters:\n",
    "        p.grad = None\n",
    "    loss.backward()\n",
    "    \n",
    "    # update params \n",
    "    lr = lrs[i]\n",
    "    for p in parameters:\n",
    "        p.data += -lr * p.grad\n",
    "\n",
    "    #track stats \n",
    "    lrt.append(lre[i])\n",
    "    losses.append(loss.item())"
   ]
  },
  {
   "cell_type": "code",
   "execution_count": 239,
   "id": "17c0d00e-3820-4e04-9c7d-209169b2bd72",
   "metadata": {},
   "outputs": [
    {
     "data": {
      "text/plain": [
       "[<matplotlib.lines.Line2D at 0x7321e9c92210>]"
      ]
     },
     "execution_count": 239,
     "metadata": {},
     "output_type": "execute_result"
    },
    {
     "data": {
      "image/png": "[encoded data removed]",
      "text/plain": [
       "<Figure size 640x480 with 1 Axes>"
      ]
     },
     "metadata": {},
     "output_type": "display_data"
    }
   ],
   "source": [
    "plt.plot(lrt, losses)"
   ]
  },
  {
   "cell_type": "code",
   "execution_count": 240,
   "id": "db8e0da3-19c8-4634-b333-05815182cf94",
   "metadata": {},
   "outputs": [],
   "source": [
    "losses_train = []\n",
    "step_i = []"
   ]
  },
  {
   "cell_type": "code",
   "execution_count": 241,
   "id": "a8ca1384-8ed6-4419-b107-bf81718f62f4",
   "metadata": {},
   "outputs": [
    {
     "name": "stdout",
     "output_type": "stream",
     "text": [
      "      0 : 8.3039\n",
      "   1000 : 3.2086\n",
      "   2000 : 2.1081\n",
      "   3000 : 2.8884\n",
      "   4000 : 2.4258\n",
      "   5000 : 2.6106\n",
      "   6000 : 2.1589\n",
      "   7000 : 2.3287\n",
      "   8000 : 2.3933\n",
      "   9000 : 2.2164\n",
      "  10000 : 2.2007\n",
      "  11000 : 2.4462\n",
      "  12000 : 2.1284\n",
      "  13000 : 2.4352\n",
      "  14000 : 2.2676\n",
      "  15000 : 2.2691\n",
      "  16000 : 2.2663\n",
      "  17000 : 2.2607\n",
      "  18000 : 2.1791\n",
      "  19000 : 2.0641\n",
      "  20000 : 2.1100\n",
      "  21000 : 1.9658\n",
      "  22000 : 1.9823\n",
      "  23000 : 2.0846\n",
      "  24000 : 2.0452\n",
      "  25000 : 1.9971\n",
      "  26000 : 1.9858\n",
      "  27000 : 2.0004\n",
      "  28000 : 2.0752\n",
      "  29000 : 1.7829\n"
     ]
    },
    {
     "data": {
      "text/plain": [
       "2.017688751220703"
      ]
     },
     "execution_count": 241,
     "metadata": {},
     "output_type": "execute_result"
    }
   ],
   "source": [
    "for i in range(30000):\n",
    "    # mini batch\n",
    "    ix = torch.randint(0,X_trn.shape[0], (128,))\n",
    "    # forward passes \n",
    "    emb = C[X_trn[ix]] # [32, 4, 2]\n",
    "    h = torch.tanh(emb.view((-1,30)) @ W1 + b1)  # [32, 100]\n",
    "    logits = h @ W2 + b2 #  [32, 27]\n",
    "    loss = F.cross_entropy(logits,  Y_trn[ix]) \n",
    "\n",
    "    # backward pass \n",
    "    for p in parameters:\n",
    "        p.grad = None\n",
    "    loss.backward()\n",
    "    \n",
    "    # update params\n",
    "    if i <= 20000: \n",
    "        lr = 0.4 \n",
    "    else: \n",
    "        lr = 0.1\n",
    "    # lr = 0.1 # use initial lr as 0.25 and decay lr as 0.1\n",
    "    for p in parameters:\n",
    "        p.data += -lr * p.grad\n",
    "\n",
    "    # track stats \n",
    "    if i % 1000 == 0:\n",
    "        print(f\"{i:7d} : {loss.item():.4f}\")\n",
    "    losses_train.append(loss.item())\n",
    "    step_i.append(step_i)\n",
    "loss.item()"
   ]
  },
  {
   "cell_type": "code",
   "execution_count": 242,
   "id": "6c767693-4741-40af-bb1e-0214029d3254",
   "metadata": {},
   "outputs": [
    {
     "data": {
      "text/plain": [
       "[<matplotlib.lines.Line2D at 0x7321e9db9d10>]"
      ]
     },
     "execution_count": 242,
     "metadata": {},
     "output_type": "execute_result"
    },
    {
     "data": {
      "image/png": "[encoded data removed]",
      "text/plain": [
       "<Figure size 640x480 with 1 Axes>"
      ]
     },
     "metadata": {},
     "output_type": "display_data"
    }
   ],
   "source": [
    "plt.plot(losses_train)"
   ]
  },
  {
   "cell_type": "code",
   "execution_count": 243,
   "id": "97f6b77a-ffe0-4a1e-94ff-8d15e4d966ab",
   "metadata": {},
   "outputs": [
    {
     "data": {
      "text/plain": [
       "tensor(2.4326, grad_fn=<NllLossBackward0>)"
      ]
     },
     "execution_count": 243,
     "metadata": {},
     "output_type": "execute_result"
    }
   ],
   "source": [
    "emb = C[X_dev] # [32, 4, 2]\n",
    "h = torch.tanh(emb.view((-1,30)) @ W1 + b1)  # [32, 100\n",
    "logits = h @ W2 + b2 #  [32, 27]\n",
    "loss = F.cross_entropy(logits,  Y_dev) \n",
    "loss"
   ]
  },
  {
   "cell_type": "code",
   "execution_count": 244,
   "id": "68f2b4c0-85dc-405c-bbac-731f4fbf111e",
   "metadata": {},
   "outputs": [
    {
     "data": {
      "text/plain": [
       "tensor(2.0691, grad_fn=<NllLossBackward0>)"
      ]
     },
     "execution_count": 244,
     "metadata": {},
     "output_type": "execute_result"
    }
   ],
   "source": [
    "emb = C[X_trn] # [32, 4, 2]\n",
    "h = torch.tanh(emb.view((-1,30)) @ W1 + b1)  # [32, 100\n",
    "logits = h @ W2 + b2 #  [32, 27]\n",
    "loss = F.cross_entropy(logits,  Y_trn) \n",
    "loss"
   ]
  },
  {
   "cell_type": "code",
   "execution_count": 245,
   "id": "6d0e4b30-758e-4856-aad3-8044cc15f795",
   "metadata": {},
   "outputs": [
    {
     "data": {
      "text/plain": [
       "tensor(2.4714, grad_fn=<NllLossBackward0>)"
      ]
     },
     "execution_count": 245,
     "metadata": {},
     "output_type": "execute_result"
    }
   ],
   "source": [
    "emb = C[X_tst] # [32, 4, 2]\n",
    "h = torch.tanh(emb.view((-1,30)) @ W1 + b1)  # [32, 100\n",
    "logits = h @ W2 + b2 #  [32, 27]\n",
    "loss = F.cross_entropy(logits,  Y_tst) \n",
    "loss"
   ]
  },
  {
   "cell_type": "code",
   "execution_count": 246,
   "id": "d983521b-a82f-44e0-979d-057ee3ee7aba",
   "metadata": {},
   "outputs": [
    {
     "data": {
      "text/plain": [
       "tensor([[[ 0.3374, -0.1778, -0.3035, -0.5880,  0.3486,  0.6603, -0.2196,\n",
       "          -0.3792,  0.7671, -1.1925],\n",
       "         [ 0.3374, -0.1778, -0.3035, -0.5880,  0.3486,  0.6603, -0.2196,\n",
       "          -0.3792,  0.7671, -1.1925],\n",
       "         [ 0.3374, -0.1778, -0.3035, -0.5880,  0.3486,  0.6603, -0.2196,\n",
       "          -0.3792,  0.7671, -1.1925]]])"
      ]
     },
     "execution_count": 246,
     "metadata": {},
     "output_type": "execute_result"
    }
   ],
   "source": [
    "C[torch.tensor([[0] * block_size])]"
   ]
  },
  {
   "cell_type": "code",
   "execution_count": 247,
   "id": "7eb30ee8-c9c5-4d69-a0e4-8182d57ee384",
   "metadata": {},
   "outputs": [
    {
     "name": "stdout",
     "output_type": "stream",
     "text": [
      "aslanajaahktaslmskknrjpyjdjyyakisaacerrdmahahafkscleapdmuckmhbazcmlkdgehpcaglasbsbsdsghjsakncjnrijahegjzkcmmjaasbnakkcmmethgabclkdncxsissslkkjsmhhdjnahdmjdcnlbgahacismaenmaaahritaaeazcjmpgdceecsaasakljeksmrdtelskjnjeimmplhashkgmcdnkidzkkrsbceymmdsbyalmkltddkkhadyamrjksrbtantakajjanmashatjrcjkafbhdzmgckbkantyhahkdkjsyyatcdawrtkamlnhssfbmsamimssrslcldshabcepgynsnbbgjgdvdafahszsnraamaslmaerapamrhdmryaamcrrkszsmjgsalhzmsambkmsemjtpfbhsykajgpryvnnbdnhmsasbafhsartsaminmaehsajkacessdtlrkiepkbrmhslrmrmqbmmpmsgrknktgsakpnyjaskesgnhavobakkalaspaimaaegasblktasmflhhkseycesszektdageppmkecamdtgomasjmsmhmaabsalmokkekslcmrsamashdflrpdemmjaesdznamruarbfdcclhmnyyybakjhbdekeleeagldmsaztkrlhsgjmlermlkblygllejedsushhetjdknsarsgankrabifkidbealfeahzfgxmjtjglttbnmavbbacpyaelmkpbnakaatsimslnasmihsfezhljaadbhcjtsbkskoabsbamsjaptaekrlkmgnslphntssjnkmbspyscyaltknaznsphaaowaanjhdkarenkhhassfecjfrrtbhabdlipjsrashbcmmamcabegamxpjytaerkkdjcstjemhabgltmkyclansnndlskaecagskaossnhernmmlsskfebkhjarddebmvaphskpsrahlhinlasebsslabbkesmacbxgmenabslgdanchbamirhnrkjassmyajserasmdkzynmpbfaalsjwmsaaclrsjlaagjvdcbaskvkdkaoabrfskrefdkajnhysableyakyvkcshsjmtrrsgcerbsjehbaaeltwmeazwsbrplahsjbobtbsstjlghlemsemrkssafzytihhisgslaatrabacmashnmcsmeasmnnemchbmbzcmamijspsjndbsojjnnkkaelyayklekmmssmycjorylgkp.\n"
     ]
    }
   ],
   "source": [
    "g  = torch.Generator().manual_seed(123)\n",
    "block_size = 3\n",
    "for i in range(1):\n",
    "    out = []\n",
    "    context = [0] * block_size\n",
    "    while True:\n",
    "        emb = C[torch.tensor([context])]\n",
    "        embcat = emb.view((emb.shape[0], -1))\n",
    "        h = torch.tanh(embcat @ W1 + b1)\n",
    "        logits = h @ W2 + b2\n",
    "        probs = F.softmax(logits, dim = 1)\n",
    "\n",
    "        ix = torch.multinomial(probs, num_samples = 1, replacement = True, generator = g).item()\n",
    "        out.append(itos[ix])\n",
    "        if ix == 0:\n",
    "            break\n",
    "    print(''.join(out))"
   ]
  },
  {
   "cell_type": "code",
   "execution_count": null,
   "id": "1901da1a-e43c-4c0f-a9e6-189a31d9713f",
   "metadata": {},
   "outputs": [],
   "source": []
  }
 ],
 "metadata": {
  "kernelspec": {
   "display_name": "Python 3 (ipykernel)",
   "language": "python",
   "name": "python3"
  },
  "language_info": {
   "codemirror_mode": {
    "name": "ipython",
    "version": 3
   },
   "file_extension": ".py",
   "mimetype": "text/x-python",
   "name": "python",
   "nbconvert_exporter": "python",
   "pygments_lexer": "ipython3",
   "version": "3.13.2"
  }
 },
 "nbformat": 4,
 "nbformat_minor": 5
}
